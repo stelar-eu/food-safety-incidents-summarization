{
 "cells": [
  {
   "cell_type": "code",
   "execution_count": null,
   "metadata": {
    "id": "7ciaecTEdq6H"
   },
   "outputs": [],
   "source": [
    "# !pip install transformers\n",
    "# !pip install langchain\n",
    "# !pip install langchain-openai\n",
    "# !pip install langchain-community\n",
    "# !pip install langchain-huggingface\n",
    "# !pip install accelerate"
   ]
  },
  {
   "cell_type": "code",
   "execution_count": null,
   "metadata": {
    "id": "qCuxDxKQbdm-"
   },
   "outputs": [],
   "source": [
    "import json\n",
    "import os\n",
    "from datetime import datetime, UTC\n",
    "\n",
    "import pandas as pd\n",
    "import requests\n",
    "from langchain.chains.summarize import load_summarize_chain\n",
    "from langchain.docstore.document import Document\n",
    "from langchain.document_loaders.base import BaseLoader\n",
    "from langchain_huggingface import HuggingFacePipeline\n",
    "from langchain.prompts import PromptTemplate\n",
    "from langchain.text_splitter import RecursiveCharacterTextSplitter\n",
    "from tqdm.notebook import tqdm\n",
    "from transformers import pipeline\n",
    "from transformers import AutoModelForCausalLM, AutoTokenizer, pipeline\n"
   ]
  },
  {
   "cell_type": "code",
   "execution_count": null,
   "metadata": {
    "id": "ccnlGIeV6Ckc"
   },
   "outputs": [],
   "source": [
    "class FoodakaiAPILoader(BaseLoader):\n",
    "    def __init__(\n",
    "        self,\n",
    "        apikey: str,\n",
    "        url: str = \"[placeholder]: foodakai endpoint\",\n",
    "        timeout: int = 60,\n",
    "        ):\n",
    "      self._apikey = apikey\n",
    "      self._url = url\n",
    "      self._timeout = timeout\n",
    "      self._headers = {\"Accept\": \"application/json\", \"Content-Type\": \"application/json\"}\n",
    "\n",
    "    def load(self, **filters) -> list[Document]:\n",
    "\n",
    "        data_from = filters.get(\"data_from\", \"2000-01-01\")\n",
    "        data_until = filters.get(\"data_until\", datetime.now(UTC).strftime(\"%Y-%m-%d\"))\n",
    "        product = filters.get(\"product\")\n",
    "        hazard = filters.get(\"hazard\")\n",
    "        origin = filters.get(\"origin\")\n",
    "        page_size = filters.get(\"page_size\", 1000)\n",
    "\n",
    "        payload: dict = {\n",
    "            \"apikey\": self._apikey,\n",
    "            \"pageSize\": page_size,\n",
    "            \"from\": data_from,\n",
    "            \"to\": data_until,\n",
    "            \"entityType\": \"incident\",\n",
    "            \"detail\": True,\n",
    "            \"published\": True,\n",
    "            \"strictQuery\": {},\n",
    "        }\n",
    "\n",
    "        if product:\n",
    "            payload[\"strictQuery\"][\"product.value.keyword\"] = product\n",
    "\n",
    "        if hazard:\n",
    "            payload[\"strictQuery\"][\"hazards.value.keyword\"] = hazard\n",
    "\n",
    "        if origin:\n",
    "            payload[\"strictQuery\"][\"origin.value.keyword\"] = origin\n",
    "\n",
    "        response = requests.post(\n",
    "            self._url,\n",
    "            json=payload,\n",
    "            headers=self._headers,\n",
    "            timeout=self._timeout,\n",
    "        )\n",
    "        response.raise_for_status()\n",
    "\n",
    "        data = response.json()\n",
    "\n",
    "        print(payload)\n",
    "\n",
    "        hits = data.get(\"hits\", {}).get(\"hits\", [])\n",
    "\n",
    "        documents = []\n",
    "        for hit in hits:\n",
    "            document = self._create_document(hit)\n",
    "            documents.append(document)\n",
    "\n",
    "        return documents\n",
    "\n",
    "    @staticmethod\n",
    "    def _create_document(doc: dict) -> Document:\n",
    "        attrs = {\n",
    "            \"title\": doc[\"_source\"][\"title\"],\n",
    "            \"description\": doc[\"_source\"][\"description\"],\n",
    "            \"published\": doc[\"_source\"][\"createdOn\"],\n",
    "            \"url\": doc[\"_source\"][\"originalSource\"][0][\"url\"],\n",
    "            \"data_source\": doc[\"_source\"][\"originalSource\"][0][\"dataSource\"],\n",
    "            \"notification_type\": doc[\"_source\"][\"notificationType\"][0],\n",
    "        }\n",
    "\n",
    "        # TODO: do not summarize documents with less than x size\n",
    "        content = (\n",
    "            f\"Title: {attrs['title']}\\n\"\n",
    "            f\"Description: {attrs['description']}\\n\"\n",
    "            f\"Published: {attrs['published']}\\n\"\n",
    "            f\"URL: {attrs['url']}\\n\"\n",
    "            f\"Data Source: {attrs['data_source']}\\n\"\n",
    "            f\"Notification Type: {attrs['notification_type']}\\n\"\n",
    "        )\n",
    "        return Document(\n",
    "            page_content=content,\n",
    "            metadata={\"id\": doc[\"_id\"]},\n",
    "        )"
   ]
  },
  {
   "cell_type": "code",
   "execution_count": null,
   "metadata": {
    "id": "PbBJ1Vq7_qrX"
   },
   "outputs": [],
   "source": [
    "loader = FoodakaiAPILoader(apikey=\"...\")"
   ]
  },
  {
   "cell_type": "code",
   "execution_count": null,
   "metadata": {
    "colab": {
     "base_uri": "https://localhost:8080/"
    },
    "id": "spf0vKfC_7An",
    "outputId": "eeaef9df-53a2-43d8-b7b2-6821c485ef8f"
   },
   "outputs": [],
   "source": [
    "# TODO: every doc should belong to at least one customization\n",
    "documents = loader.load(data_from=\"2025-01-14\")"
   ]
  },
  {
   "cell_type": "code",
   "execution_count": null,
   "metadata": {
    "colab": {
     "base_uri": "https://localhost:8080/"
    },
    "id": "j6Gztc7KBL1f",
    "outputId": "952c587d-aa91-4eb0-ba2b-6e187fe44758"
   },
   "outputs": [],
   "source": [
    "len(documents)"
   ]
  },
  {
   "cell_type": "code",
   "execution_count": null,
   "metadata": {
    "colab": {
     "base_uri": "https://localhost:8080/",
     "height": 1000
    },
    "id": "KWMQpEKZ8xyT",
    "outputId": "938e385e-bb6e-4a91-ebfb-dde5c23a8652"
   },
   "outputs": [],
   "source": [
    "documents[0].page_content"
   ]
  },
  {
   "cell_type": "code",
   "execution_count": null,
   "metadata": {
    "colab": {
     "base_uri": "https://localhost:8080/"
    },
    "id": "-NMpWGT7iMlg",
    "outputId": "5ffeb446-e7ba-475a-cb62-57e256468b7c"
   },
   "outputs": [],
   "source": [
    "# TODO: explore other models\n",
    "model_id = \"Qwen/Qwen2.5-1.5B-Instruct\"\n",
    "\n",
    "# Load the tokenizer\n",
    "tokenizer = AutoTokenizer.from_pretrained(model_id, trust_remote_code=True)\n",
    "\n",
    "# Load the model\n",
    "model = AutoModelForCausalLM.from_pretrained(\n",
    "    model_id,\n",
    "    trust_remote_code=True,\n",
    "    device_map=\"auto\"  # Let accelerate map model to GPU if available\n",
    ")\n",
    "\n",
    "# Create a text-generation pipeline\n",
    "generate_text = pipeline(\n",
    "    task=\"text-generation\",\n",
    "    model=model,\n",
    "    tokenizer=tokenizer,\n",
    "    max_new_tokens=500,\n",
    "    temperature=0.2,\n",
    "    do_sample=True,\n",
    ")\n",
    "\n",
    "# TODO: account for context length, map-phase summary new tokens and number of summaries\n",
    "# TODO: experiment with transformer model fine-tuned for summarization\n",
    "# TODO: eval with BLUE, ROUGE metrics (initial text, final summary)"
   ]
  },
  {
   "cell_type": "code",
   "execution_count": null,
   "metadata": {
    "id": "XiE0WPuA03HK"
   },
   "outputs": [],
   "source": [
    "llm = HuggingFacePipeline(pipeline=generate_text)"
   ]
  },
  {
   "cell_type": "code",
   "execution_count": null,
   "metadata": {
    "id": "_9q1DOA47KUu"
   },
   "outputs": [],
   "source": [
    "map_chain = load_summarize_chain(llm, chain_type=\"stuff\", verbose=False)\n",
    "reduce_chain = load_summarize_chain(llm, chain_type=\"stuff\", verbose=False)\n",
    "# TODO: compare map-reduce with refinement approach"
   ]
  },
  {
   "cell_type": "code",
   "execution_count": null,
   "metadata": {
    "colab": {
     "base_uri": "https://localhost:8080/",
     "height": 379,
     "referenced_widgets": [
      "a46c23f4470c4be881bf34f6ac224fec",
      "6b8523eaad0d446490dc8a03e3af686d",
      "b00be660b4fb4c98ae1125c05eaa5c40",
      "697ad5ebb80248f298d1d6ee3742dd11",
      "b7bafa1580c942be83e40de2a14634e2",
      "480a5daf399549c2827615d6cb9bfa8c",
      "82c6215e4771400bba20961e47cbefba",
      "5f08bb12d6254b348d410c5d003f1afe",
      "4e1599dc6b6a4f3fafe7a3502c3f212a",
      "0af8c3f5b21c4c55944d78216b60f8f4",
      "6a6f8b1f287c4043bd9018a8f852752a"
     ]
    },
    "id": "4RVEQqBYiMwH",
    "outputId": "05479347-c810-4a23-84b7-86e26a09c548"
   },
   "outputs": [],
   "source": [
    "summaries = {}\n",
    "\n",
    "for doc in tqdm(documents):\n",
    "    summaries[doc.metadata[\"id\"]] = map_chain.invoke([doc])"
   ]
  },
  {
   "cell_type": "code",
   "execution_count": null,
   "metadata": {
    "colab": {
     "base_uri": "https://localhost:8080/",
     "height": 160
    },
    "id": "YtGtmT2Q96en",
    "outputId": "8e011365-8ebe-4e55-d2d8-a7a819b30f95"
   },
   "outputs": [],
   "source": [
    "summaries['FDK_23758287'][\"output_text\"]"
   ]
  },
  {
   "cell_type": "code",
   "execution_count": null,
   "metadata": {
    "colab": {
     "base_uri": "https://localhost:8080/"
    },
    "id": "59Mm4thpjile",
    "outputId": "9465dbbd-c312-4db4-fb4c-68509cf6916a"
   },
   "outputs": [],
   "source": [
    "len(summaries)"
   ]
  },
  {
   "cell_type": "code",
   "execution_count": null,
   "metadata": {
    "id": "q8pFcfBwiqbc"
   },
   "outputs": [],
   "source": [
    "users = [\n",
    "    {\n",
    "        \"name\": \"John Doe\",\n",
    "        \"customization\": {\n",
    "            \"products\": [],\n",
    "            \"hazards\": [\"salmonella\"],\n",
    "            \"origins\": []\n",
    "        }\n",
    "    },\n",
    "    {\n",
    "        \"name\": \"Enzo Ferrari\",\n",
    "        \"customization\": {\n",
    "            \"products\": [],\n",
    "            \"hazards\": [\"listeria monocytogenes\"],\n",
    "            \"origins\": []\n",
    "        }\n",
    "    }\n",
    "]"
   ]
  },
  {
   "cell_type": "code",
   "execution_count": null,
   "metadata": {
    "colab": {
     "base_uri": "https://localhost:8080/",
     "height": 236
    },
    "id": "LSIdxqEtMX-9",
    "outputId": "1c054957-243f-4c33-be6b-aa78cd843a3c"
   },
   "outputs": [],
   "source": [
    "user_summaries = {}\n",
    "for user in users:\n",
    "\n",
    "    user_docs = loader.load(\n",
    "        product=\"||\".join(user[\"customization\"][\"products\"]) if user[\"customization\"][\"products\"] else None,\n",
    "        hazard=\"||\".join(user[\"customization\"][\"hazards\"]) if user[\"customization\"][\"hazards\"] else None,\n",
    "        origin=\"||\".join(user[\"customization\"][\"origins\"]) if user[\"customization\"][\"origins\"] else None,\n",
    "    )\n",
    "\n",
    "    relevant_summaries = [\n",
    "        summaries.get(doc.metadata[\"id\"]) for doc in user_docs\n",
    "    ]\n",
    "\n",
    "    if not relevant_summaries:\n",
    "        print(f\"User {user['name']} does not have relevant incidents\")\n",
    "        continue\n",
    "\n",
    "    relevant_summaries_text = \"\\n\".join(relevant_summaries)\n",
    "    user_summaries[user[\"name\"]] = map_chain.invoke(relevant_summaries_text)"
   ]
  },
  {
   "cell_type": "code",
   "execution_count": null,
   "metadata": {
    "id": "wb9qoIw7lvOT"
   },
   "outputs": [],
   "source": []
  }
 ],
 "metadata": {
  "colab": {
   "provenance": []
  },
  "kernelspec": {
   "display_name": "Python 3 (ipykernel)",
   "language": "python",
   "name": "python3"
  },
  "language_info": {
   "codemirror_mode": {
    "name": "ipython",
    "version": 3
   },
   "file_extension": ".py",
   "mimetype": "text/x-python",
   "name": "python",
   "nbconvert_exporter": "python",
   "pygments_lexer": "ipython3",
   "version": "3.10.12"
  },
  "widgets": {
   "application/vnd.jupyter.widget-state+json": {
    "0af8c3f5b21c4c55944d78216b60f8f4": {
     "model_module": "@jupyter-widgets/base",
     "model_module_version": "1.2.0",
     "model_name": "LayoutModel",
     "state": {
      "_model_module": "@jupyter-widgets/base",
      "_model_module_version": "1.2.0",
      "_model_name": "LayoutModel",
      "_view_count": null,
      "_view_module": "@jupyter-widgets/base",
      "_view_module_version": "1.2.0",
      "_view_name": "LayoutView",
      "align_content": null,
      "align_items": null,
      "align_self": null,
      "border": null,
      "bottom": null,
      "display": null,
      "flex": null,
      "flex_flow": null,
      "grid_area": null,
      "grid_auto_columns": null,
      "grid_auto_flow": null,
      "grid_auto_rows": null,
      "grid_column": null,
      "grid_gap": null,
      "grid_row": null,
      "grid_template_areas": null,
      "grid_template_columns": null,
      "grid_template_rows": null,
      "height": null,
      "justify_content": null,
      "justify_items": null,
      "left": null,
      "margin": null,
      "max_height": null,
      "max_width": null,
      "min_height": null,
      "min_width": null,
      "object_fit": null,
      "object_position": null,
      "order": null,
      "overflow": null,
      "overflow_x": null,
      "overflow_y": null,
      "padding": null,
      "right": null,
      "top": null,
      "visibility": null,
      "width": null
     }
    },
    "480a5daf399549c2827615d6cb9bfa8c": {
     "model_module": "@jupyter-widgets/base",
     "model_module_version": "1.2.0",
     "model_name": "LayoutModel",
     "state": {
      "_model_module": "@jupyter-widgets/base",
      "_model_module_version": "1.2.0",
      "_model_name": "LayoutModel",
      "_view_count": null,
      "_view_module": "@jupyter-widgets/base",
      "_view_module_version": "1.2.0",
      "_view_name": "LayoutView",
      "align_content": null,
      "align_items": null,
      "align_self": null,
      "border": null,
      "bottom": null,
      "display": null,
      "flex": null,
      "flex_flow": null,
      "grid_area": null,
      "grid_auto_columns": null,
      "grid_auto_flow": null,
      "grid_auto_rows": null,
      "grid_column": null,
      "grid_gap": null,
      "grid_row": null,
      "grid_template_areas": null,
      "grid_template_columns": null,
      "grid_template_rows": null,
      "height": null,
      "justify_content": null,
      "justify_items": null,
      "left": null,
      "margin": null,
      "max_height": null,
      "max_width": null,
      "min_height": null,
      "min_width": null,
      "object_fit": null,
      "object_position": null,
      "order": null,
      "overflow": null,
      "overflow_x": null,
      "overflow_y": null,
      "padding": null,
      "right": null,
      "top": null,
      "visibility": null,
      "width": null
     }
    },
    "4e1599dc6b6a4f3fafe7a3502c3f212a": {
     "model_module": "@jupyter-widgets/controls",
     "model_module_version": "1.5.0",
     "model_name": "ProgressStyleModel",
     "state": {
      "_model_module": "@jupyter-widgets/controls",
      "_model_module_version": "1.5.0",
      "_model_name": "ProgressStyleModel",
      "_view_count": null,
      "_view_module": "@jupyter-widgets/base",
      "_view_module_version": "1.2.0",
      "_view_name": "StyleView",
      "bar_color": null,
      "description_width": ""
     }
    },
    "5f08bb12d6254b348d410c5d003f1afe": {
     "model_module": "@jupyter-widgets/base",
     "model_module_version": "1.2.0",
     "model_name": "LayoutModel",
     "state": {
      "_model_module": "@jupyter-widgets/base",
      "_model_module_version": "1.2.0",
      "_model_name": "LayoutModel",
      "_view_count": null,
      "_view_module": "@jupyter-widgets/base",
      "_view_module_version": "1.2.0",
      "_view_name": "LayoutView",
      "align_content": null,
      "align_items": null,
      "align_self": null,
      "border": null,
      "bottom": null,
      "display": null,
      "flex": null,
      "flex_flow": null,
      "grid_area": null,
      "grid_auto_columns": null,
      "grid_auto_flow": null,
      "grid_auto_rows": null,
      "grid_column": null,
      "grid_gap": null,
      "grid_row": null,
      "grid_template_areas": null,
      "grid_template_columns": null,
      "grid_template_rows": null,
      "height": null,
      "justify_content": null,
      "justify_items": null,
      "left": null,
      "margin": null,
      "max_height": null,
      "max_width": null,
      "min_height": null,
      "min_width": null,
      "object_fit": null,
      "object_position": null,
      "order": null,
      "overflow": null,
      "overflow_x": null,
      "overflow_y": null,
      "padding": null,
      "right": null,
      "top": null,
      "visibility": null,
      "width": null
     }
    },
    "697ad5ebb80248f298d1d6ee3742dd11": {
     "model_module": "@jupyter-widgets/controls",
     "model_module_version": "1.5.0",
     "model_name": "HTMLModel",
     "state": {
      "_dom_classes": [],
      "_model_module": "@jupyter-widgets/controls",
      "_model_module_version": "1.5.0",
      "_model_name": "HTMLModel",
      "_view_count": null,
      "_view_module": "@jupyter-widgets/controls",
      "_view_module_version": "1.5.0",
      "_view_name": "HTMLView",
      "description": "",
      "description_tooltip": null,
      "layout": "IPY_MODEL_0af8c3f5b21c4c55944d78216b60f8f4",
      "placeholder": "​",
      "style": "IPY_MODEL_6a6f8b1f287c4043bd9018a8f852752a",
      "value": " 32/1000 [03:19&lt;2:08:57,  7.99s/it]"
     }
    },
    "6a6f8b1f287c4043bd9018a8f852752a": {
     "model_module": "@jupyter-widgets/controls",
     "model_module_version": "1.5.0",
     "model_name": "DescriptionStyleModel",
     "state": {
      "_model_module": "@jupyter-widgets/controls",
      "_model_module_version": "1.5.0",
      "_model_name": "DescriptionStyleModel",
      "_view_count": null,
      "_view_module": "@jupyter-widgets/base",
      "_view_module_version": "1.2.0",
      "_view_name": "StyleView",
      "description_width": ""
     }
    },
    "6b8523eaad0d446490dc8a03e3af686d": {
     "model_module": "@jupyter-widgets/controls",
     "model_module_version": "1.5.0",
     "model_name": "HTMLModel",
     "state": {
      "_dom_classes": [],
      "_model_module": "@jupyter-widgets/controls",
      "_model_module_version": "1.5.0",
      "_model_name": "HTMLModel",
      "_view_count": null,
      "_view_module": "@jupyter-widgets/controls",
      "_view_module_version": "1.5.0",
      "_view_name": "HTMLView",
      "description": "",
      "description_tooltip": null,
      "layout": "IPY_MODEL_480a5daf399549c2827615d6cb9bfa8c",
      "placeholder": "​",
      "style": "IPY_MODEL_82c6215e4771400bba20961e47cbefba",
      "value": "  3%"
     }
    },
    "82c6215e4771400bba20961e47cbefba": {
     "model_module": "@jupyter-widgets/controls",
     "model_module_version": "1.5.0",
     "model_name": "DescriptionStyleModel",
     "state": {
      "_model_module": "@jupyter-widgets/controls",
      "_model_module_version": "1.5.0",
      "_model_name": "DescriptionStyleModel",
      "_view_count": null,
      "_view_module": "@jupyter-widgets/base",
      "_view_module_version": "1.2.0",
      "_view_name": "StyleView",
      "description_width": ""
     }
    },
    "a46c23f4470c4be881bf34f6ac224fec": {
     "model_module": "@jupyter-widgets/controls",
     "model_module_version": "1.5.0",
     "model_name": "HBoxModel",
     "state": {
      "_dom_classes": [],
      "_model_module": "@jupyter-widgets/controls",
      "_model_module_version": "1.5.0",
      "_model_name": "HBoxModel",
      "_view_count": null,
      "_view_module": "@jupyter-widgets/controls",
      "_view_module_version": "1.5.0",
      "_view_name": "HBoxView",
      "box_style": "",
      "children": [
       "IPY_MODEL_6b8523eaad0d446490dc8a03e3af686d",
       "IPY_MODEL_b00be660b4fb4c98ae1125c05eaa5c40",
       "IPY_MODEL_697ad5ebb80248f298d1d6ee3742dd11"
      ],
      "layout": "IPY_MODEL_b7bafa1580c942be83e40de2a14634e2"
     }
    },
    "b00be660b4fb4c98ae1125c05eaa5c40": {
     "model_module": "@jupyter-widgets/controls",
     "model_module_version": "1.5.0",
     "model_name": "FloatProgressModel",
     "state": {
      "_dom_classes": [],
      "_model_module": "@jupyter-widgets/controls",
      "_model_module_version": "1.5.0",
      "_model_name": "FloatProgressModel",
      "_view_count": null,
      "_view_module": "@jupyter-widgets/controls",
      "_view_module_version": "1.5.0",
      "_view_name": "ProgressView",
      "bar_style": "danger",
      "description": "",
      "description_tooltip": null,
      "layout": "IPY_MODEL_5f08bb12d6254b348d410c5d003f1afe",
      "max": 1000,
      "min": 0,
      "orientation": "horizontal",
      "style": "IPY_MODEL_4e1599dc6b6a4f3fafe7a3502c3f212a",
      "value": 32
     }
    },
    "b7bafa1580c942be83e40de2a14634e2": {
     "model_module": "@jupyter-widgets/base",
     "model_module_version": "1.2.0",
     "model_name": "LayoutModel",
     "state": {
      "_model_module": "@jupyter-widgets/base",
      "_model_module_version": "1.2.0",
      "_model_name": "LayoutModel",
      "_view_count": null,
      "_view_module": "@jupyter-widgets/base",
      "_view_module_version": "1.2.0",
      "_view_name": "LayoutView",
      "align_content": null,
      "align_items": null,
      "align_self": null,
      "border": null,
      "bottom": null,
      "display": null,
      "flex": null,
      "flex_flow": null,
      "grid_area": null,
      "grid_auto_columns": null,
      "grid_auto_flow": null,
      "grid_auto_rows": null,
      "grid_column": null,
      "grid_gap": null,
      "grid_row": null,
      "grid_template_areas": null,
      "grid_template_columns": null,
      "grid_template_rows": null,
      "height": null,
      "justify_content": null,
      "justify_items": null,
      "left": null,
      "margin": null,
      "max_height": null,
      "max_width": null,
      "min_height": null,
      "min_width": null,
      "object_fit": null,
      "object_position": null,
      "order": null,
      "overflow": null,
      "overflow_x": null,
      "overflow_y": null,
      "padding": null,
      "right": null,
      "top": null,
      "visibility": null,
      "width": null
     }
    }
   }
  }
 },
 "nbformat": 4,
 "nbformat_minor": 4
}
